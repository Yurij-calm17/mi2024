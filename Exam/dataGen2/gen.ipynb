{
 "cells": [
  {
   "cell_type": "code",
   "execution_count": 3,
   "metadata": {},
   "outputs": [
    {
     "name": "stdout",
     "output_type": "stream",
     "text": [
      "SQL-інструкція для створення таблиці збережена у create_table.sql\n",
      "SQL-інструкції для вставки даних збережені у insert_battle_reports.sql\n"
     ]
    }
   ],
   "source": [
    "import json\n",
    "import random\n",
    "from datetime import datetime, timedelta\n",
    "\n",
    "# Завантажуємо JSON\n",
    "json_file = \"var.json\"\n",
    "with open(json_file, \"r\") as file:\n",
    "    battle_config = json.load(file)\n",
    "\n",
    "# Отримуємо параметри\n",
    "table_name = battle_config[\"table_name\"]\n",
    "columns = battle_config[\"columns\"]\n",
    "data_ranges = battle_config[\"data_ranges\"]\n",
    "locations = data_ranges[\"location\"]\n",
    "\n",
    "# SQL-файли\n",
    "create_table_file = \"create_table.sql\"\n",
    "insert_data_file = \"insert_battle_reports.sql\"\n",
    "\n",
    "# ==========================\n",
    "# 1. Генерація SQL для створення таблиці\n",
    "# ==========================\n",
    "column_definitions = \",\\n    \".join([f\"{col} {columns[col]}\" for col in columns])\n",
    "\n",
    "create_table_sql = f\"\"\"\n",
    "-- Створення таблиці {table_name}\n",
    "CREATE TABLE IF NOT EXISTS {table_name} (\n",
    "    {column_definitions}\n",
    ");\n",
    "\"\"\"\n",
    "\n",
    "with open(create_table_file, \"w\") as file:\n",
    "    file.write(create_table_sql)\n",
    "\n",
    "print(f\"SQL-інструкція для створення таблиці збережена у {create_table_file}\")\n",
    "\n",
    "# ==========================\n",
    "# 2. Генерація SQL для вставки даних\n",
    "# ==========================\n",
    "insert_statements = []\n",
    "end_date = datetime.today()\n",
    "start_date = end_date - timedelta(days=2 * 365)\n",
    "current_date = start_date\n",
    "\n",
    "while current_date <= end_date:\n",
    "    for location in locations:\n",
    "        values = {\n",
    "            \"date\": f\"'{current_date.date()}'\",\n",
    "            \"location\": f\"'{location}'\"\n",
    "        }\n",
    "        for field, range_values in data_ranges.items():\n",
    "            if field not in [\"date\", \"location\"]:\n",
    "                values[field] = str(random.randint(range_values[0], range_values[1]))\n",
    "\n",
    "        column_names = \", \".join(values.keys())\n",
    "        column_values = \", \".join(values.values())\n",
    "\n",
    "        sql = f\"INSERT INTO {table_name} ({column_names}) VALUES ({column_values});\"\n",
    "        insert_statements.append(sql)\n",
    "\n",
    "    current_date += timedelta(days=1)\n",
    "\n",
    "with open(insert_data_file, \"w\") as file:\n",
    "    file.write(\"\\n\".join(insert_statements))\n",
    "\n",
    "print(f\"SQL-інструкції для вставки даних збережені у {insert_data_file}\")\n"
   ]
  }
 ],
 "metadata": {
  "kernelspec": {
   "display_name": "Python 3",
   "language": "python",
   "name": "python3"
  },
  "language_info": {
   "codemirror_mode": {
    "name": "ipython",
    "version": 3
   },
   "file_extension": ".py",
   "mimetype": "text/x-python",
   "name": "python",
   "nbconvert_exporter": "python",
   "pygments_lexer": "ipython3",
   "version": "3.11.9"
  }
 },
 "nbformat": 4,
 "nbformat_minor": 2
}

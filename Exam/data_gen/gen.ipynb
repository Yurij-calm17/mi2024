{
 "cells": [
  {
   "cell_type": "code",
   "execution_count": 2,
   "metadata": {},
   "outputs": [
    {
     "name": "stdout",
     "output_type": "stream",
     "text": [
      "SQL-інструкції збережено у insert_battle_reports.sql\n"
     ]
    }
   ],
   "source": [
    "import json\n",
    "import random\n",
    "from datetime import datetime, timedelta\n",
    "\n",
    "# Завантажуємо конфігурацію з JSON\n",
    "with open(\"var1.json\", \"r\") as file:\n",
    "    battle_config = json.load(file)\n",
    "\n",
    "# Генеруємо дати за останні 2 роки\n",
    "end_date = datetime.today()\n",
    "start_date = end_date - timedelta(days=2 * 365)\n",
    "\n",
    "# Локації бойових дій\n",
    "locations = [\"A\", \"B\", \"C\"]\n",
    "\n",
    "# Файл для збереження SQL-запитів\n",
    "output_file = \"insert_battle_reports.sql\"\n",
    "insert_statements = []\n",
    "\n",
    "# Генеруємо SQL-інструкції для кожного дня за 2 роки\n",
    "current_date = start_date\n",
    "while current_date <= end_date:\n",
    "    for location in locations:\n",
    "        config = battle_config[location]  # Отримуємо діапазони з JSON\n",
    "        ammo_used = random.randint(config[\"ammo_used\"][0], config[\"ammo_used\"][1])\n",
    "        enemy_losses_personnel = random.randint(config[\"enemy_losses_personnel\"][0], config[\"enemy_losses_personnel\"][1])\n",
    "        enemy_losses_equipment = random.randint(config[\"enemy_losses_equipment\"][0], config[\"enemy_losses_equipment\"][1])\n",
    "\n",
    "        sql = f\"INSERT INTO battle_reports (date, location, ammo_used, enemy_losses_personnel, enemy_losses_equipment) \" \\\n",
    "              f\"VALUES ('{current_date.date()}', '{location}', {ammo_used}, {enemy_losses_personnel}, {enemy_losses_equipment});\"\n",
    "        insert_statements.append(sql)\n",
    "\n",
    "    current_date += timedelta(days=1)\n",
    "\n",
    "# Записуємо SQL-інструкції у файл\n",
    "with open(output_file, \"w\") as file:\n",
    "    file.write(\"\\n\".join(insert_statements))\n",
    "\n",
    "print(f\"SQL-інструкції збережено у {output_file}\")\n"
   ]
  }
 ],
 "metadata": {
  "kernelspec": {
   "display_name": "Python 3",
   "language": "python",
   "name": "python3"
  },
  "language_info": {
   "codemirror_mode": {
    "name": "ipython",
    "version": 3
   },
   "file_extension": ".py",
   "mimetype": "text/x-python",
   "name": "python",
   "nbconvert_exporter": "python",
   "pygments_lexer": "ipython3",
   "version": "3.11.9"
  }
 },
 "nbformat": 4,
 "nbformat_minor": 2
}

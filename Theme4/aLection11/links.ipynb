{
 "cells": [
  {
   "cell_type": "markdown",
   "metadata": {},
   "source": [
    "[DronesVsBirds](https://www.kaggle.com/code/albertobircoci/bird-vs-drone-prediction-cnn-lstm/notebook)\n",
    "\n",
    "[Transfer](https://www.kaggle.com/code/dansbecker/transfer-learning/notebook)\n",
    "\n",
    "[RL sources](https://www.kaggle.com/competitions/connectx/discussion/124421)\n",
    "\n",
    "[RL bootcamp](https://sites.google.com/view/deep-rl-bootcamp/lectures)"
   ]
  }
 ],
 "metadata": {
  "kernelspec": {
   "display_name": "Python 3",
   "language": "python",
   "name": "python3"
  },
  "language_info": {
   "name": "python",
   "version": "3.11.9"
  }
 },
 "nbformat": 4,
 "nbformat_minor": 2
}

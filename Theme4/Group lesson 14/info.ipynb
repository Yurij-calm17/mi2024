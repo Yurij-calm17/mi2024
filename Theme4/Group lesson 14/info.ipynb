{
 "cells": [
  {
   "cell_type": "markdown",
   "metadata": {},
   "source": [
    "Тема 4. Заняття 14. Методи аналізу текстової інформації. Основи генеративного штучного інтелекту.\n",
    "1.  Методи аналізу текстової інформації.\n",
    "2. Основи генеративного штучного інтелекту.\n",
    "Самостійна робота: Розробка елементів інформаційно-аналітичних систем.\n"
   ]
  }
 ],
 "metadata": {
  "kernelspec": {
   "display_name": "Python 3",
   "language": "python",
   "name": "python3"
  },
  "language_info": {
   "name": "python",
   "version": "3.11.9"
  }
 },
 "nbformat": 4,
 "nbformat_minor": 2
}

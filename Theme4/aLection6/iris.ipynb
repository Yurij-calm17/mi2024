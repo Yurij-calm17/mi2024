{
 "cells": [
  {
   "cell_type": "code",
   "execution_count": 3,
   "metadata": {},
   "outputs": [
    {
     "data": {
      "text/plain": [
       "array([[1, 0, 0],\n",
       "       [1, 0, 0],\n",
       "       [1, 0, 0],\n",
       "       [1, 0, 0],\n",
       "       [1, 0, 0],\n",
       "       [1, 0, 0],\n",
       "       [1, 0, 0],\n",
       "       [1, 0, 0],\n",
       "       [1, 0, 0],\n",
       "       [1, 0, 0],\n",
       "       [1, 0, 0],\n",
       "       [1, 0, 0],\n",
       "       [1, 0, 0],\n",
       "       [1, 0, 0],\n",
       "       [1, 0, 0],\n",
       "       [1, 0, 0],\n",
       "       [1, 0, 0],\n",
       "       [1, 0, 0],\n",
       "       [1, 0, 0],\n",
       "       [1, 0, 0],\n",
       "       [1, 0, 0],\n",
       "       [1, 0, 0],\n",
       "       [1, 0, 0],\n",
       "       [1, 0, 0],\n",
       "       [1, 0, 0],\n",
       "       [1, 0, 0],\n",
       "       [1, 0, 0],\n",
       "       [1, 0, 0],\n",
       "       [1, 0, 0],\n",
       "       [1, 0, 0],\n",
       "       [1, 0, 0],\n",
       "       [1, 0, 0],\n",
       "       [1, 0, 0],\n",
       "       [1, 0, 0],\n",
       "       [1, 0, 0],\n",
       "       [1, 0, 0],\n",
       "       [1, 0, 0],\n",
       "       [1, 0, 0],\n",
       "       [1, 0, 0],\n",
       "       [1, 0, 0],\n",
       "       [1, 0, 0],\n",
       "       [1, 0, 0],\n",
       "       [1, 0, 0],\n",
       "       [1, 0, 0],\n",
       "       [1, 0, 0],\n",
       "       [1, 0, 0],\n",
       "       [1, 0, 0],\n",
       "       [1, 0, 0],\n",
       "       [1, 0, 0],\n",
       "       [1, 0, 0],\n",
       "       [0, 1, 0],\n",
       "       [0, 1, 0],\n",
       "       [0, 1, 0],\n",
       "       [0, 1, 0],\n",
       "       [0, 1, 0],\n",
       "       [0, 1, 0],\n",
       "       [0, 1, 0],\n",
       "       [0, 1, 0],\n",
       "       [0, 1, 0],\n",
       "       [0, 1, 0],\n",
       "       [0, 1, 0],\n",
       "       [0, 1, 0],\n",
       "       [0, 1, 0],\n",
       "       [0, 1, 0],\n",
       "       [0, 1, 0],\n",
       "       [0, 1, 0],\n",
       "       [0, 1, 0],\n",
       "       [0, 1, 0],\n",
       "       [0, 1, 0],\n",
       "       [0, 1, 0],\n",
       "       [0, 1, 0],\n",
       "       [0, 1, 0],\n",
       "       [0, 1, 0],\n",
       "       [0, 1, 0],\n",
       "       [0, 1, 0],\n",
       "       [0, 1, 0],\n",
       "       [0, 1, 0],\n",
       "       [0, 1, 0],\n",
       "       [0, 1, 0],\n",
       "       [0, 1, 0],\n",
       "       [0, 1, 0],\n",
       "       [0, 1, 0],\n",
       "       [0, 1, 0],\n",
       "       [0, 1, 0],\n",
       "       [0, 1, 0],\n",
       "       [0, 1, 0],\n",
       "       [0, 1, 0],\n",
       "       [0, 1, 0],\n",
       "       [0, 1, 0],\n",
       "       [0, 1, 0],\n",
       "       [0, 1, 0],\n",
       "       [0, 1, 0],\n",
       "       [0, 1, 0],\n",
       "       [0, 1, 0],\n",
       "       [0, 1, 0],\n",
       "       [0, 1, 0],\n",
       "       [0, 1, 0],\n",
       "       [0, 1, 0],\n",
       "       [0, 1, 0],\n",
       "       [0, 1, 0],\n",
       "       [0, 0, 1],\n",
       "       [0, 0, 1],\n",
       "       [0, 0, 1],\n",
       "       [0, 0, 1],\n",
       "       [0, 0, 1],\n",
       "       [0, 0, 1],\n",
       "       [0, 0, 1],\n",
       "       [0, 0, 1],\n",
       "       [0, 0, 1],\n",
       "       [0, 0, 1],\n",
       "       [0, 0, 1],\n",
       "       [0, 0, 1],\n",
       "       [0, 0, 1],\n",
       "       [0, 0, 1],\n",
       "       [0, 0, 1],\n",
       "       [0, 0, 1],\n",
       "       [0, 0, 1],\n",
       "       [0, 0, 1],\n",
       "       [0, 0, 1],\n",
       "       [0, 0, 1],\n",
       "       [0, 0, 1],\n",
       "       [0, 0, 1],\n",
       "       [0, 0, 1],\n",
       "       [0, 0, 1],\n",
       "       [0, 0, 1],\n",
       "       [0, 0, 1],\n",
       "       [0, 0, 1],\n",
       "       [0, 0, 1],\n",
       "       [0, 0, 1],\n",
       "       [0, 0, 1],\n",
       "       [0, 0, 1],\n",
       "       [0, 0, 1],\n",
       "       [0, 0, 1],\n",
       "       [0, 0, 1],\n",
       "       [0, 0, 1],\n",
       "       [0, 0, 1],\n",
       "       [0, 0, 1],\n",
       "       [0, 0, 1],\n",
       "       [0, 0, 1],\n",
       "       [0, 0, 1],\n",
       "       [0, 0, 1],\n",
       "       [0, 0, 1],\n",
       "       [0, 0, 1],\n",
       "       [0, 0, 1],\n",
       "       [0, 0, 1],\n",
       "       [0, 0, 1],\n",
       "       [0, 0, 1],\n",
       "       [0, 0, 1],\n",
       "       [0, 0, 1],\n",
       "       [0, 0, 1]])"
      ]
     },
     "execution_count": 3,
     "metadata": {},
     "output_type": "execute_result"
    }
   ],
   "source": [
    "import numpy as np\n",
    "import pandas as pd\n",
    "from sklearn.datasets import load_iris\n",
    "from sklearn.model_selection import train_test_split\n",
    "from sklearn.preprocessing import LabelBinarizer, StandardScaler\n",
    "import tensorflow as tf\n",
    "from tensorflow.keras.models import Sequential\n",
    "from tensorflow.keras.layers import Dense, Dropout\n",
    "from tensorflow.keras.optimizers import Adam\n",
    "\n",
    "# Load the Iris dataset\n",
    "iris = load_iris()\n",
    "X = iris.data  # Features\n",
    "y = iris.target  # Labels\n",
    "\n",
    "# One-hot encoding for the labels\n",
    "encoder = LabelBinarizer()\n",
    "y_onehot = encoder.fit_transform(y)\n",
    "y_onehot"
   ]
  },
  {
   "cell_type": "code",
   "execution_count": 4,
   "metadata": {},
   "outputs": [],
   "source": [
    "\n",
    "# Split the dataset into training and testing sets\n",
    "X_train, X_test, y_train, y_test = train_test_split(X, y_onehot, test_size=0.2, random_state=42)\n",
    "\n",
    "# Standardize the feature data\n",
    "scaler = StandardScaler()\n",
    "X_train = scaler.fit_transform(X_train)\n",
    "X_test = scaler.transform(X_test)\n"
   ]
  },
  {
   "cell_type": "code",
   "execution_count": 5,
   "metadata": {},
   "outputs": [
    {
     "data": {
      "text/plain": [
       "(120, 4)"
      ]
     },
     "execution_count": 5,
     "metadata": {},
     "output_type": "execute_result"
    }
   ],
   "source": [
    "X_train.shape"
   ]
  },
  {
   "cell_type": "code",
   "execution_count": 6,
   "metadata": {},
   "outputs": [
    {
     "data": {
      "text/plain": [
       "4"
      ]
     },
     "execution_count": 6,
     "metadata": {},
     "output_type": "execute_result"
    }
   ],
   "source": [
    "X_train.shape[1]"
   ]
  },
  {
   "cell_type": "code",
   "execution_count": 11,
   "metadata": {},
   "outputs": [
    {
     "data": {
      "text/plain": [
       "(120, 3)"
      ]
     },
     "execution_count": 11,
     "metadata": {},
     "output_type": "execute_result"
    }
   ],
   "source": [
    "y_train.shape"
   ]
  },
  {
   "cell_type": "code",
   "execution_count": 7,
   "metadata": {},
   "outputs": [],
   "source": [
    "\n",
    "# Define the neural network model\n",
    "model = Sequential([\n",
    "    Dense(16, input_dim=X_train.shape[1], activation='relu'),  # Input layer\n",
    "    #Dropout(0.2),  # Dropout to reduce overfitting\n",
    "    Dense(8, activation='relu'),  # Hidden layer\n",
    "    Dense(y_train.shape[1], activation='softmax')  # Output layer\n",
    "])\n"
   ]
  },
  {
   "cell_type": "code",
   "execution_count": 9,
   "metadata": {},
   "outputs": [
    {
     "name": "stdout",
     "output_type": "stream",
     "text": [
      "Model: \"sequential_1\"\n",
      "_________________________________________________________________\n",
      " Layer (type)                Output Shape              Param #   \n",
      "=================================================================\n",
      " dense_3 (Dense)             (None, 16)                80        \n",
      "                                                                 \n",
      " dense_4 (Dense)             (None, 8)                 136       \n",
      "                                                                 \n",
      " dense_5 (Dense)             (None, 3)                 27        \n",
      "                                                                 \n",
      "=================================================================\n",
      "Total params: 243\n",
      "Trainable params: 243\n",
      "Non-trainable params: 0\n",
      "_________________________________________________________________\n"
     ]
    }
   ],
   "source": [
    "model.summary()"
   ]
  },
  {
   "cell_type": "code",
   "execution_count": 12,
   "metadata": {},
   "outputs": [],
   "source": [
    "\n",
    "# Compile the model\n",
    "model.compile(optimizer=Adam(learning_rate=0.01), \n",
    "              loss='categorical_crossentropy', \n",
    "              metrics=['accuracy'])\n"
   ]
  },
  {
   "cell_type": "code",
   "execution_count": 13,
   "metadata": {},
   "outputs": [
    {
     "name": "stdout",
     "output_type": "stream",
     "text": [
      "Epoch 1/100\n",
      "8/8 [==============================] - 11s 767ms/step - loss: 1.0265 - accuracy: 0.4917 - val_loss: 0.9047 - val_accuracy: 0.7333\n",
      "Epoch 2/100\n",
      "8/8 [==============================] - 2s 343ms/step - loss: 0.7794 - accuracy: 0.6917 - val_loss: 0.6333 - val_accuracy: 0.7667\n",
      "Epoch 3/100\n",
      "8/8 [==============================] - 1s 183ms/step - loss: 0.5707 - accuracy: 0.7750 - val_loss: 0.4542 - val_accuracy: 0.9000\n",
      "Epoch 4/100\n",
      "8/8 [==============================] - 1s 107ms/step - loss: 0.4475 - accuracy: 0.8250 - val_loss: 0.3387 - val_accuracy: 0.9333\n",
      "Epoch 5/100\n",
      "8/8 [==============================] - 0s 47ms/step - loss: 0.3619 - accuracy: 0.8333 - val_loss: 0.2650 - val_accuracy: 0.9000\n",
      "Epoch 6/100\n",
      "8/8 [==============================] - 1s 165ms/step - loss: 0.3101 - accuracy: 0.8500 - val_loss: 0.2101 - val_accuracy: 0.9333\n",
      "Epoch 7/100\n",
      "8/8 [==============================] - 1s 110ms/step - loss: 0.2639 - accuracy: 0.8833 - val_loss: 0.1748 - val_accuracy: 0.9333\n",
      "Epoch 8/100\n",
      "8/8 [==============================] - 1s 133ms/step - loss: 0.2241 - accuracy: 0.8917 - val_loss: 0.1426 - val_accuracy: 0.9667\n",
      "Epoch 9/100\n",
      "8/8 [==============================] - 1s 161ms/step - loss: 0.1968 - accuracy: 0.9333 - val_loss: 0.1172 - val_accuracy: 1.0000\n",
      "Epoch 10/100\n",
      "8/8 [==============================] - 1s 167ms/step - loss: 0.1611 - accuracy: 0.9333 - val_loss: 0.1327 - val_accuracy: 0.9333\n",
      "Epoch 11/100\n",
      "8/8 [==============================] - 1s 117ms/step - loss: 0.1306 - accuracy: 0.9500 - val_loss: 0.0836 - val_accuracy: 1.0000\n",
      "Epoch 12/100\n",
      "8/8 [==============================] - 1s 103ms/step - loss: 0.1190 - accuracy: 0.9417 - val_loss: 0.0793 - val_accuracy: 0.9667\n",
      "Epoch 13/100\n",
      "8/8 [==============================] - 1s 102ms/step - loss: 0.1121 - accuracy: 0.9500 - val_loss: 0.0525 - val_accuracy: 1.0000\n",
      "Epoch 14/100\n",
      "8/8 [==============================] - 1s 116ms/step - loss: 0.0895 - accuracy: 0.9583 - val_loss: 0.0791 - val_accuracy: 0.9667\n",
      "Epoch 15/100\n",
      "8/8 [==============================] - 1s 115ms/step - loss: 0.0878 - accuracy: 0.9500 - val_loss: 0.0432 - val_accuracy: 1.0000\n",
      "Epoch 16/100\n",
      "8/8 [==============================] - 0s 29ms/step - loss: 0.0835 - accuracy: 0.9500 - val_loss: 0.0507 - val_accuracy: 0.9667\n",
      "Epoch 17/100\n",
      "8/8 [==============================] - 0s 24ms/step - loss: 0.0822 - accuracy: 0.9500 - val_loss: 0.0725 - val_accuracy: 0.9667\n",
      "Epoch 18/100\n",
      "8/8 [==============================] - 0s 28ms/step - loss: 0.0842 - accuracy: 0.9583 - val_loss: 0.0600 - val_accuracy: 0.9667\n",
      "Epoch 19/100\n",
      "8/8 [==============================] - 0s 24ms/step - loss: 0.0863 - accuracy: 0.9583 - val_loss: 0.0506 - val_accuracy: 0.9667\n",
      "Epoch 20/100\n",
      "8/8 [==============================] - 0s 33ms/step - loss: 0.0767 - accuracy: 0.9667 - val_loss: 0.0847 - val_accuracy: 0.9667\n",
      "Epoch 21/100\n",
      "8/8 [==============================] - 0s 19ms/step - loss: 0.0777 - accuracy: 0.9500 - val_loss: 0.0477 - val_accuracy: 1.0000\n",
      "Epoch 22/100\n",
      "8/8 [==============================] - 0s 28ms/step - loss: 0.0740 - accuracy: 0.9583 - val_loss: 0.0700 - val_accuracy: 0.9667\n",
      "Epoch 23/100\n",
      "8/8 [==============================] - 0s 26ms/step - loss: 0.0657 - accuracy: 0.9667 - val_loss: 0.0610 - val_accuracy: 0.9667\n",
      "Epoch 24/100\n",
      "8/8 [==============================] - 0s 33ms/step - loss: 0.0860 - accuracy: 0.9500 - val_loss: 0.0382 - val_accuracy: 1.0000\n",
      "Epoch 25/100\n",
      "8/8 [==============================] - 0s 24ms/step - loss: 0.0856 - accuracy: 0.9750 - val_loss: 0.0821 - val_accuracy: 0.9667\n",
      "Epoch 26/100\n",
      "8/8 [==============================] - 0s 36ms/step - loss: 0.0939 - accuracy: 0.9583 - val_loss: 0.0337 - val_accuracy: 1.0000\n",
      "Epoch 27/100\n",
      "8/8 [==============================] - 0s 39ms/step - loss: 0.0629 - accuracy: 0.9750 - val_loss: 0.0494 - val_accuracy: 0.9667\n",
      "Epoch 28/100\n",
      "8/8 [==============================] - 0s 36ms/step - loss: 0.1012 - accuracy: 0.9667 - val_loss: 0.0911 - val_accuracy: 0.9667\n",
      "Epoch 29/100\n",
      "8/8 [==============================] - 0s 21ms/step - loss: 0.0720 - accuracy: 0.9750 - val_loss: 0.0331 - val_accuracy: 1.0000\n",
      "Epoch 30/100\n",
      "8/8 [==============================] - 0s 39ms/step - loss: 0.0718 - accuracy: 0.9667 - val_loss: 0.0353 - val_accuracy: 1.0000\n",
      "Epoch 31/100\n",
      "8/8 [==============================] - 0s 33ms/step - loss: 0.0557 - accuracy: 0.9750 - val_loss: 0.0511 - val_accuracy: 0.9667\n",
      "Epoch 32/100\n",
      "8/8 [==============================] - 0s 35ms/step - loss: 0.0603 - accuracy: 0.9583 - val_loss: 0.0473 - val_accuracy: 0.9667\n",
      "Epoch 33/100\n",
      "8/8 [==============================] - 1s 74ms/step - loss: 0.0591 - accuracy: 0.9750 - val_loss: 0.0371 - val_accuracy: 1.0000\n",
      "Epoch 34/100\n",
      "8/8 [==============================] - 1s 101ms/step - loss: 0.0626 - accuracy: 0.9750 - val_loss: 0.0494 - val_accuracy: 0.9667\n",
      "Epoch 35/100\n",
      "8/8 [==============================] - 1s 131ms/step - loss: 0.0559 - accuracy: 0.9667 - val_loss: 0.0404 - val_accuracy: 0.9667\n",
      "Epoch 36/100\n",
      "8/8 [==============================] - 1s 108ms/step - loss: 0.0562 - accuracy: 0.9750 - val_loss: 0.0369 - val_accuracy: 1.0000\n",
      "Epoch 37/100\n",
      "8/8 [==============================] - 1s 133ms/step - loss: 0.0583 - accuracy: 0.9667 - val_loss: 0.0414 - val_accuracy: 0.9667\n",
      "Epoch 38/100\n",
      "8/8 [==============================] - 1s 176ms/step - loss: 0.0542 - accuracy: 0.9667 - val_loss: 0.0301 - val_accuracy: 1.0000\n",
      "Epoch 39/100\n",
      "8/8 [==============================] - 1s 195ms/step - loss: 0.0539 - accuracy: 0.9833 - val_loss: 0.0312 - val_accuracy: 1.0000\n",
      "Epoch 40/100\n",
      "8/8 [==============================] - 1s 149ms/step - loss: 0.0551 - accuracy: 0.9833 - val_loss: 0.0314 - val_accuracy: 1.0000\n",
      "Epoch 41/100\n",
      "8/8 [==============================] - 1s 97ms/step - loss: 0.0561 - accuracy: 0.9667 - val_loss: 0.0438 - val_accuracy: 0.9667\n",
      "Epoch 42/100\n",
      "8/8 [==============================] - 1s 136ms/step - loss: 0.0555 - accuracy: 0.9750 - val_loss: 0.0305 - val_accuracy: 1.0000\n",
      "Epoch 43/100\n",
      "8/8 [==============================] - 1s 121ms/step - loss: 0.0519 - accuracy: 0.9833 - val_loss: 0.0306 - val_accuracy: 1.0000\n",
      "Epoch 44/100\n",
      "8/8 [==============================] - 1s 97ms/step - loss: 0.0515 - accuracy: 0.9833 - val_loss: 0.0312 - val_accuracy: 1.0000\n",
      "Epoch 45/100\n",
      "8/8 [==============================] - 1s 162ms/step - loss: 0.0515 - accuracy: 0.9750 - val_loss: 0.0311 - val_accuracy: 1.0000\n",
      "Epoch 46/100\n",
      "8/8 [==============================] - 1s 159ms/step - loss: 0.0543 - accuracy: 0.9833 - val_loss: 0.0273 - val_accuracy: 1.0000\n",
      "Epoch 47/100\n",
      "8/8 [==============================] - 2s 247ms/step - loss: 0.0552 - accuracy: 0.9750 - val_loss: 0.0321 - val_accuracy: 0.9667\n",
      "Epoch 48/100\n",
      "8/8 [==============================] - 1s 121ms/step - loss: 0.0547 - accuracy: 0.9833 - val_loss: 0.0222 - val_accuracy: 1.0000\n",
      "Epoch 49/100\n",
      "8/8 [==============================] - 1s 181ms/step - loss: 0.0512 - accuracy: 0.9833 - val_loss: 0.0286 - val_accuracy: 1.0000\n",
      "Epoch 50/100\n",
      "8/8 [==============================] - 1s 157ms/step - loss: 0.0506 - accuracy: 0.9667 - val_loss: 0.0292 - val_accuracy: 1.0000\n",
      "Epoch 51/100\n",
      "8/8 [==============================] - 0s 50ms/step - loss: 0.0492 - accuracy: 0.9750 - val_loss: 0.0266 - val_accuracy: 1.0000\n",
      "Epoch 52/100\n",
      "8/8 [==============================] - 0s 62ms/step - loss: 0.0512 - accuracy: 0.9833 - val_loss: 0.0243 - val_accuracy: 1.0000\n",
      "Epoch 53/100\n",
      "8/8 [==============================] - 0s 57ms/step - loss: 0.0621 - accuracy: 0.9667 - val_loss: 0.0281 - val_accuracy: 1.0000\n",
      "Epoch 54/100\n",
      "8/8 [==============================] - 0s 69ms/step - loss: 0.0504 - accuracy: 0.9750 - val_loss: 0.0224 - val_accuracy: 1.0000\n",
      "Epoch 55/100\n",
      "8/8 [==============================] - 0s 36ms/step - loss: 0.0556 - accuracy: 0.9833 - val_loss: 0.0230 - val_accuracy: 1.0000\n",
      "Epoch 56/100\n",
      "8/8 [==============================] - 0s 26ms/step - loss: 0.0483 - accuracy: 0.9833 - val_loss: 0.0206 - val_accuracy: 1.0000\n",
      "Epoch 57/100\n",
      "8/8 [==============================] - 1s 146ms/step - loss: 0.0486 - accuracy: 0.9833 - val_loss: 0.0212 - val_accuracy: 1.0000\n",
      "Epoch 58/100\n",
      "8/8 [==============================] - 1s 156ms/step - loss: 0.0516 - accuracy: 0.9750 - val_loss: 0.0227 - val_accuracy: 1.0000\n",
      "Epoch 59/100\n",
      "8/8 [==============================] - 1s 207ms/step - loss: 0.0535 - accuracy: 0.9750 - val_loss: 0.0253 - val_accuracy: 1.0000\n",
      "Epoch 60/100\n",
      "8/8 [==============================] - 1s 203ms/step - loss: 0.0666 - accuracy: 0.9667 - val_loss: 0.0225 - val_accuracy: 1.0000\n",
      "Epoch 61/100\n",
      "8/8 [==============================] - 2s 223ms/step - loss: 0.0446 - accuracy: 0.9833 - val_loss: 0.0203 - val_accuracy: 1.0000\n",
      "Epoch 62/100\n",
      "8/8 [==============================] - 1s 174ms/step - loss: 0.0522 - accuracy: 0.9750 - val_loss: 0.0177 - val_accuracy: 1.0000\n",
      "Epoch 63/100\n",
      "8/8 [==============================] - 2s 316ms/step - loss: 0.0489 - accuracy: 0.9833 - val_loss: 0.0176 - val_accuracy: 1.0000\n",
      "Epoch 64/100\n",
      "8/8 [==============================] - 1s 126ms/step - loss: 0.0485 - accuracy: 0.9667 - val_loss: 0.0196 - val_accuracy: 1.0000\n",
      "Epoch 65/100\n",
      "8/8 [==============================] - 1s 178ms/step - loss: 0.0494 - accuracy: 0.9750 - val_loss: 0.0160 - val_accuracy: 1.0000\n",
      "Epoch 66/100\n",
      "8/8 [==============================] - 2s 257ms/step - loss: 0.0496 - accuracy: 0.9833 - val_loss: 0.0194 - val_accuracy: 1.0000\n",
      "Epoch 67/100\n",
      "8/8 [==============================] - 1s 208ms/step - loss: 0.0465 - accuracy: 0.9833 - val_loss: 0.0170 - val_accuracy: 1.0000\n",
      "Epoch 68/100\n",
      "8/8 [==============================] - 1s 148ms/step - loss: 0.0625 - accuracy: 0.9667 - val_loss: 0.0212 - val_accuracy: 1.0000\n",
      "Epoch 69/100\n",
      "8/8 [==============================] - 1s 197ms/step - loss: 0.0389 - accuracy: 0.9750 - val_loss: 0.0344 - val_accuracy: 0.9667\n",
      "Epoch 70/100\n",
      "8/8 [==============================] - 1s 183ms/step - loss: 0.0674 - accuracy: 0.9833 - val_loss: 0.0221 - val_accuracy: 1.0000\n",
      "Epoch 71/100\n",
      "8/8 [==============================] - 1s 155ms/step - loss: 0.0498 - accuracy: 0.9833 - val_loss: 0.0361 - val_accuracy: 0.9667\n",
      "Epoch 72/100\n",
      "8/8 [==============================] - 1s 165ms/step - loss: 0.0596 - accuracy: 0.9750 - val_loss: 0.0231 - val_accuracy: 1.0000\n",
      "Epoch 73/100\n",
      "8/8 [==============================] - 0s 66ms/step - loss: 0.0548 - accuracy: 0.9833 - val_loss: 0.0207 - val_accuracy: 1.0000\n",
      "Epoch 74/100\n",
      "8/8 [==============================] - 1s 86ms/step - loss: 0.0452 - accuracy: 0.9833 - val_loss: 0.0187 - val_accuracy: 1.0000\n",
      "Epoch 75/100\n",
      "8/8 [==============================] - 1s 99ms/step - loss: 0.0535 - accuracy: 0.9833 - val_loss: 0.0175 - val_accuracy: 1.0000\n",
      "Epoch 76/100\n",
      "8/8 [==============================] - 1s 111ms/step - loss: 0.0562 - accuracy: 0.9750 - val_loss: 0.0166 - val_accuracy: 1.0000\n",
      "Epoch 77/100\n",
      "8/8 [==============================] - 1s 105ms/step - loss: 0.0432 - accuracy: 0.9833 - val_loss: 0.0166 - val_accuracy: 1.0000\n",
      "Epoch 78/100\n",
      "8/8 [==============================] - 1s 81ms/step - loss: 0.0539 - accuracy: 0.9750 - val_loss: 0.0147 - val_accuracy: 1.0000\n",
      "Epoch 79/100\n",
      "8/8 [==============================] - 1s 114ms/step - loss: 0.0505 - accuracy: 0.9667 - val_loss: 0.0155 - val_accuracy: 1.0000\n",
      "Epoch 80/100\n",
      "8/8 [==============================] - 1s 143ms/step - loss: 0.0784 - accuracy: 0.9667 - val_loss: 0.0185 - val_accuracy: 1.0000\n",
      "Epoch 81/100\n",
      "8/8 [==============================] - 0s 43ms/step - loss: 0.0506 - accuracy: 0.9750 - val_loss: 0.0205 - val_accuracy: 1.0000\n",
      "Epoch 82/100\n",
      "8/8 [==============================] - 0s 65ms/step - loss: 0.0533 - accuracy: 0.9750 - val_loss: 0.0189 - val_accuracy: 1.0000\n",
      "Epoch 83/100\n",
      "8/8 [==============================] - 1s 75ms/step - loss: 0.0467 - accuracy: 0.9833 - val_loss: 0.0195 - val_accuracy: 1.0000\n",
      "Epoch 84/100\n",
      "8/8 [==============================] - 0s 55ms/step - loss: 0.0416 - accuracy: 0.9833 - val_loss: 0.0151 - val_accuracy: 1.0000\n",
      "Epoch 85/100\n",
      "8/8 [==============================] - 1s 112ms/step - loss: 0.0479 - accuracy: 0.9833 - val_loss: 0.0153 - val_accuracy: 1.0000\n",
      "Epoch 86/100\n",
      "8/8 [==============================] - 1s 133ms/step - loss: 0.0441 - accuracy: 0.9750 - val_loss: 0.0170 - val_accuracy: 1.0000\n",
      "Epoch 87/100\n",
      "8/8 [==============================] - 1s 137ms/step - loss: 0.0500 - accuracy: 0.9833 - val_loss: 0.0168 - val_accuracy: 1.0000\n",
      "Epoch 88/100\n",
      "8/8 [==============================] - 1s 121ms/step - loss: 0.0455 - accuracy: 0.9833 - val_loss: 0.0173 - val_accuracy: 1.0000\n",
      "Epoch 89/100\n",
      "8/8 [==============================] - 0s 63ms/step - loss: 0.0558 - accuracy: 0.9667 - val_loss: 0.0154 - val_accuracy: 1.0000\n",
      "Epoch 90/100\n",
      "8/8 [==============================] - 1s 133ms/step - loss: 0.0464 - accuracy: 0.9833 - val_loss: 0.0135 - val_accuracy: 1.0000\n",
      "Epoch 91/100\n",
      "8/8 [==============================] - 1s 185ms/step - loss: 0.0425 - accuracy: 0.9833 - val_loss: 0.0174 - val_accuracy: 1.0000\n",
      "Epoch 92/100\n",
      "8/8 [==============================] - 1s 161ms/step - loss: 0.0517 - accuracy: 0.9750 - val_loss: 0.0156 - val_accuracy: 1.0000\n",
      "Epoch 93/100\n",
      "8/8 [==============================] - 0s 40ms/step - loss: 0.0507 - accuracy: 0.9833 - val_loss: 0.0154 - val_accuracy: 1.0000\n",
      "Epoch 94/100\n",
      "8/8 [==============================] - 0s 27ms/step - loss: 0.0447 - accuracy: 0.9833 - val_loss: 0.0148 - val_accuracy: 1.0000\n",
      "Epoch 95/100\n",
      "8/8 [==============================] - 0s 39ms/step - loss: 0.0451 - accuracy: 0.9750 - val_loss: 0.0146 - val_accuracy: 1.0000\n",
      "Epoch 96/100\n",
      "8/8 [==============================] - 0s 16ms/step - loss: 0.0421 - accuracy: 0.9833 - val_loss: 0.0125 - val_accuracy: 1.0000\n",
      "Epoch 97/100\n",
      "8/8 [==============================] - 0s 21ms/step - loss: 0.0432 - accuracy: 0.9833 - val_loss: 0.0133 - val_accuracy: 1.0000\n",
      "Epoch 98/100\n",
      "8/8 [==============================] - 0s 35ms/step - loss: 0.0420 - accuracy: 0.9833 - val_loss: 0.0152 - val_accuracy: 1.0000\n",
      "Epoch 99/100\n",
      "8/8 [==============================] - 0s 23ms/step - loss: 0.0448 - accuracy: 0.9833 - val_loss: 0.0140 - val_accuracy: 1.0000\n",
      "Epoch 100/100\n",
      "8/8 [==============================] - 0s 23ms/step - loss: 0.0460 - accuracy: 0.9833 - val_loss: 0.0116 - val_accuracy: 1.0000\n"
     ]
    }
   ],
   "source": [
    "\n",
    "# Train the model\n",
    "history = model.fit(X_train, y_train, \n",
    "                    epochs=100, \n",
    "                    batch_size=16, \n",
    "                    validation_data=(X_test, y_test), \n",
    "                    verbose=1)\n"
   ]
  },
  {
   "cell_type": "code",
   "execution_count": 14,
   "metadata": {},
   "outputs": [
    {
     "name": "stdout",
     "output_type": "stream",
     "text": [
      "1/1 [==============================] - 1s 868ms/step - loss: 0.0116 - accuracy: 1.0000\n",
      "Test Loss: 0.011564209125936031\n",
      "Test Accuracy: 1.0\n"
     ]
    }
   ],
   "source": [
    "\n",
    "# Evaluate the model\n",
    "test_loss, test_accuracy = model.evaluate(X_test, y_test)\n",
    "print(f\"Test Loss: {test_loss}\")\n",
    "print(f\"Test Accuracy: {test_accuracy}\")\n"
   ]
  },
  {
   "cell_type": "code",
   "execution_count": 15,
   "metadata": {},
   "outputs": [
    {
     "name": "stdout",
     "output_type": "stream",
     "text": [
      "1/1 [==============================] - 1s 619ms/step\n"
     ]
    }
   ],
   "source": [
    "\n",
    "# Make predictions\n",
    "predictions = model.predict(X_test)\n",
    "predicted_classes = np.argmax(predictions, axis=1)\n",
    "true_classes = np.argmax(y_test, axis=1)\n"
   ]
  },
  {
   "cell_type": "code",
   "execution_count": null,
   "metadata": {},
   "outputs": [],
   "source": [
    "predictions"
   ]
  },
  {
   "cell_type": "code",
   "execution_count": 17,
   "metadata": {},
   "outputs": [
    {
     "data": {
      "text/plain": [
       "array([1, 0, 2, 1, 1, 0, 1, 2, 1, 1, 2, 0, 0, 0, 0, 1, 2, 1, 1, 2, 0, 2,\n",
       "       0, 2, 2, 2, 2, 2, 0, 0], dtype=int64)"
      ]
     },
     "execution_count": 17,
     "metadata": {},
     "output_type": "execute_result"
    }
   ],
   "source": [
    "predicted_classes"
   ]
  },
  {
   "cell_type": "code",
   "execution_count": 18,
   "metadata": {},
   "outputs": [
    {
     "data": {
      "text/plain": [
       "array([1, 0, 2, 1, 1, 0, 1, 2, 1, 1, 2, 0, 0, 0, 0, 1, 2, 1, 1, 2, 0, 2,\n",
       "       0, 2, 2, 2, 2, 2, 0, 0], dtype=int64)"
      ]
     },
     "execution_count": 18,
     "metadata": {},
     "output_type": "execute_result"
    }
   ],
   "source": [
    "true_classes"
   ]
  },
  {
   "cell_type": "code",
   "execution_count": 19,
   "metadata": {},
   "outputs": [
    {
     "data": {
      "text/plain": [
       "array([0, 0, 0, 0, 0, 0, 0, 0, 0, 0, 0, 0, 0, 0, 0, 0, 0, 0, 0, 0, 0, 0,\n",
       "       0, 0, 0, 0, 0, 0, 0, 0], dtype=int64)"
      ]
     },
     "execution_count": 19,
     "metadata": {},
     "output_type": "execute_result"
    }
   ],
   "source": [
    "predicted_classes - true_classes"
   ]
  },
  {
   "cell_type": "code",
   "execution_count": 20,
   "metadata": {},
   "outputs": [
    {
     "name": "stdout",
     "output_type": "stream",
     "text": [
      "Predicted classes: [1 0 2 1 1 0 1 2 1 1 2 0 0 0 0 1 2 1 1 2 0 2 0 2 2 2 2 2 0 0]\n",
      "True classes: [1 0 2 1 1 0 1 2 1 1 2 0 0 0 0 1 2 1 1 2 0 2 0 2 2 2 2 2 0 0]\n"
     ]
    }
   ],
   "source": [
    "\n",
    "# Display results\n",
    "print(\"Predicted classes:\", predicted_classes)\n",
    "print(\"True classes:\", true_classes)\n",
    "\n",
    "# Save the model\n",
    "model.save('iris_nn_model.h5')\n"
   ]
  },
  {
   "cell_type": "code",
   "execution_count": 21,
   "metadata": {},
   "outputs": [],
   "source": [
    "from tensorflow.keras.models import load_model\n",
    "model1 = load_model('iris_nn_model.h5')"
   ]
  },
  {
   "cell_type": "code",
   "execution_count": 22,
   "metadata": {},
   "outputs": [
    {
     "name": "stdout",
     "output_type": "stream",
     "text": [
      "1/1 [==============================] - 0s 283ms/step\n"
     ]
    },
    {
     "data": {
      "text/plain": [
       "array([[8.2062455e-05, 9.9975735e-01, 1.6057673e-04],\n",
       "       [9.9998617e-01, 1.3876118e-05, 2.9137004e-10],\n",
       "       [1.1658103e-11, 1.2521566e-06, 9.9999869e-01],\n",
       "       [2.4812194e-04, 9.9575162e-01, 4.0003001e-03],\n",
       "       [4.0893454e-05, 9.9447000e-01, 5.4890993e-03],\n",
       "       [9.9997127e-01, 2.8753831e-05, 5.2504728e-10],\n",
       "       [2.3053470e-04, 9.9975926e-01, 1.0237562e-05],\n",
       "       [5.7826833e-07, 5.1521527e-04, 9.9948418e-01],\n",
       "       [4.3118842e-05, 8.3829713e-01, 1.6165982e-01],\n",
       "       [2.6720727e-05, 9.9996591e-01, 7.3855690e-06],\n",
       "       [2.5007419e-05, 1.0648134e-02, 9.8932683e-01],\n",
       "       [9.9999142e-01, 8.5326474e-06, 7.2110304e-11],\n",
       "       [9.9999249e-01, 7.5032044e-06, 7.0968856e-11],\n",
       "       [9.9999094e-01, 9.1145721e-06, 9.2071725e-11],\n",
       "       [9.9999714e-01, 2.8556108e-06, 3.4791871e-11],\n",
       "       [4.3651601e-04, 9.9289352e-01, 6.6699265e-03],\n",
       "       [9.5304088e-08, 1.8883021e-04, 9.9981111e-01],\n",
       "       [1.6437874e-05, 9.9997723e-01, 6.3652037e-06],\n",
       "       [1.6393066e-04, 9.9924242e-01, 5.9363630e-04],\n",
       "       [6.3061933e-08, 1.5004486e-04, 9.9984992e-01],\n",
       "       [9.9999189e-01, 8.0942846e-06, 1.0224715e-10],\n",
       "       [2.6735288e-04, 1.2961175e-01, 8.7012094e-01],\n",
       "       [9.9998367e-01, 1.6325108e-05, 3.0203334e-10],\n",
       "       [1.5251885e-07, 2.4533810e-04, 9.9975449e-01],\n",
       "       [6.1573536e-07, 5.3353899e-04, 9.9946588e-01],\n",
       "       [2.7430400e-07, 3.4015623e-04, 9.9965954e-01],\n",
       "       [1.0415366e-07, 1.9839992e-04, 9.9980146e-01],\n",
       "       [6.6386953e-08, 1.5439930e-04, 9.9984550e-01],\n",
       "       [9.9998116e-01, 1.8793728e-05, 2.2000114e-10],\n",
       "       [9.9998629e-01, 1.3709893e-05, 1.8578561e-10]], dtype=float32)"
      ]
     },
     "execution_count": 22,
     "metadata": {},
     "output_type": "execute_result"
    }
   ],
   "source": [
    "model1.predict(X_test)"
   ]
  },
  {
   "cell_type": "code",
   "execution_count": 3,
   "metadata": {},
   "outputs": [
    {
     "data": {
      "image/png": "[encoded data removed]",
      "text/plain": [
       "<Figure size 800x600 with 1 Axes>"
      ]
     },
     "metadata": {},
     "output_type": "display_data"
    }
   ],
   "source": [
    "import matplotlib.pyplot as plt\n",
    "training_loss = history.history['loss']\n",
    "validation_loss = history.history['val_loss']\n",
    "epochs = range(1, len(training_loss) + 1)\n",
    "\n",
    "# Plot the loss trajectory\n",
    "plt.figure(figsize=(8, 6))\n",
    "plt.plot(epochs, training_loss, label='Training Loss', marker='o')\n",
    "plt.plot(epochs, validation_loss, label='Validation Loss', marker='x')\n",
    "plt.title('Training and Validation Loss Trajectory')\n",
    "plt.xlabel('Epochs')\n",
    "plt.ylabel('Loss')\n",
    "plt.legend()\n",
    "plt.grid(True)\n",
    "plt.show()"
   ]
  }
 ],
 "metadata": {
  "kernelspec": {
   "display_name": "Python 3",
   "language": "python",
   "name": "python3"
  },
  "language_info": {
   "codemirror_mode": {
    "name": "ipython",
    "version": 3
   },
   "file_extension": ".py",
   "mimetype": "text/x-python",
   "name": "python",
   "nbconvert_exporter": "python",
   "pygments_lexer": "ipython3",
   "version": "3.11.4"
  }
 },
 "nbformat": 4,
 "nbformat_minor": 2
}

{
 "cells": [
  {
   "cell_type": "code",
   "execution_count": 5,
   "metadata": {},
   "outputs": [
    {
     "name": "stdout",
     "output_type": "stream",
     "text": [
      "<class 'pandas.core.frame.DataFrame'>\n",
      "RangeIndex: 20640 entries, 0 to 20639\n",
      "Data columns (total 10 columns):\n",
      " #   Column              Non-Null Count  Dtype  \n",
      "---  ------              --------------  -----  \n",
      " 0   longitude           20640 non-null  float64\n",
      " 1   latitude            20640 non-null  float64\n",
      " 2   housing_median_age  20640 non-null  float64\n",
      " 3   total_rooms         20640 non-null  float64\n",
      " 4   total_bedrooms      20433 non-null  float64\n",
      " 5   population          20640 non-null  float64\n",
      " 6   households          20640 non-null  float64\n",
      " 7   median_income       20640 non-null  float64\n",
      " 8   median_house_value  20640 non-null  float64\n",
      " 9   ocean_proximity     20640 non-null  object \n",
      "dtypes: float64(9), object(1)\n",
      "memory usage: 1.6+ MB\n",
      "None\n"
     ]
    }
   ],
   "source": [
    "# КРОК 0. Імпорт необхідних бібліотек\n",
    "import numpy as np\n",
    "import tensorflow as tf\n",
    "from tensorflow.keras import Sequential\n",
    "from tensorflow.keras.layers import Dense\n",
    "from sklearn.datasets import fetch_california_housing\n",
    "from sklearn.model_selection import train_test_split\n",
    "from sklearn.preprocessing import StandardScaler\n",
    "\n",
    "# КРОК 1. Завантаження даних\n",
    "import pandas as pd\n",
    "\n",
    "# Specify the path to your CSV file\n",
    "csv_file_path = \"housing.csv\"\n",
    "\n",
    "# Load the CSV file\n",
    "data = pd.read_csv(csv_file_path)\n",
    "\n",
    "# Display the first few rows\n",
    "print(data.info())\n",
    "\n"
   ]
  },
  {
   "cell_type": "code",
   "execution_count": 10,
   "metadata": {},
   "outputs": [
    {
     "name": "stdout",
     "output_type": "stream",
     "text": [
      "Features (X) shape: (20640, 8)\n",
      "Target (y) shape: (20640,)\n"
     ]
    }
   ],
   "source": [
    "# Specify the target column (e.g., \"target_column\")\n",
    "target_column = \"median_house_value\"\n",
    "\n",
    "# Split into features (X) and target (y)\n",
    "X = data.drop(columns=[target_column,'ocean_proximity'])  # Features\n",
    "y = data[target_column]                # Target\n",
    "\n",
    "# Display the shapes of X and y\n",
    "print(f\"Features (X) shape: {X.shape}\")\n",
    "print(f\"Target (y) shape: {y.shape}\")\n"
   ]
  },
  {
   "cell_type": "code",
   "execution_count": 11,
   "metadata": {},
   "outputs": [
    {
     "name": "stdout",
     "output_type": "stream",
     "text": [
      "Форма X: (20640, 8)\n",
      "Форма y: (20640,)\n"
     ]
    }
   ],
   "source": [
    "\n",
    "# Перевіримо розміри\n",
    "print(\"Форма X:\", X.shape)\n",
    "print(\"Форма y:\", y.shape)\n"
   ]
  },
  {
   "cell_type": "code",
   "execution_count": 13,
   "metadata": {},
   "outputs": [
    {
     "name": "stderr",
     "output_type": "stream",
     "text": [
      "c:\\Users\\Eve8\\AppData\\Local\\Programs\\Python\\Python311\\Lib\\site-packages\\keras\\src\\layers\\core\\dense.py:87: UserWarning: Do not pass an `input_shape`/`input_dim` argument to a layer. When using Sequential models, prefer using an `Input(shape)` object as the first layer in the model instead.\n",
      "  super().__init__(activity_regularizer=activity_regularizer, **kwargs)\n"
     ]
    }
   ],
   "source": [
    "\n",
    "# КРОК 2. Попередня обробка даних\n",
    "# 2.1. Розділяємо дані на тренувальний і тестовий набори\n",
    "X_train, X_test, y_train, y_test = train_test_split(\n",
    "    X, y, test_size=0.2, random_state=42\n",
    ")\n",
    "\n",
    "# 2.2. Нормалізація ознак\n",
    "scaler = StandardScaler()\n",
    "X_train_scaled = scaler.fit_transform(X_train)\n",
    "X_test_scaled  = scaler.transform(X_test)\n",
    "\n",
    "# КРОК 3. Побудова моделі\n",
    "# Послідовна модель (MLP) з кількома Dense-шарами\n",
    "model = Sequential()\n",
    "model.add(Dense(64, activation='relu', input_shape=(X_train.shape[1],)))\n",
    "model.add(Dense(32, activation='relu'))\n",
    "model.add(Dense(1))  # Вихід: 1 нейрон для регресії\n",
    "\n",
    "# КРОК 4. Компіляція\n",
    "model.compile(\n",
    "    optimizer='adam', \n",
    "    loss='mse',        # Середньоквадратична помилка\n",
    "    metrics=['mae']    # Середня абсолютна похибка\n",
    ")\n"
   ]
  },
  {
   "cell_type": "code",
   "execution_count": 14,
   "metadata": {},
   "outputs": [
    {
     "name": "stdout",
     "output_type": "stream",
     "text": [
      "Epoch 1/20\n",
      "\u001b[1m413/413\u001b[0m \u001b[32m━━━━━━━━━━━━━━━━━━━━\u001b[0m\u001b[37m\u001b[0m \u001b[1m3s\u001b[0m 3ms/step - loss: 54924431360.0000 - mae: 204986.7656 - val_loss: 56500260864.0000 - val_mae: 207094.2969\n",
      "Epoch 2/20\n",
      "\u001b[1m413/413\u001b[0m \u001b[32m━━━━━━━━━━━━━━━━━━━━\u001b[0m\u001b[37m\u001b[0m \u001b[1m1s\u001b[0m 2ms/step - loss: 54877822976.0000 - mae: 204328.5469 - val_loss: 53775372288.0000 - val_mae: 201073.8594\n",
      "Epoch 3/20\n",
      "\u001b[1m413/413\u001b[0m \u001b[32m━━━━━━━━━━━━━━━━━━━━\u001b[0m\u001b[37m\u001b[0m \u001b[1m1s\u001b[0m 2ms/step - loss: 51520565248.0000 - mae: 196555.7656 - val_loss: 47576412160.0000 - val_mae: 186614.2344\n",
      "Epoch 4/20\n",
      "\u001b[1m413/413\u001b[0m \u001b[32m━━━━━━━━━━━━━━━━━━━━\u001b[0m\u001b[37m\u001b[0m \u001b[1m1s\u001b[0m 2ms/step - loss: 44680011776.0000 - mae: 180286.9062 - val_loss: 38845972480.0000 - val_mae: 164515.5625\n",
      "Epoch 5/20\n",
      "\u001b[1m413/413\u001b[0m \u001b[32m━━━━━━━━━━━━━━━━━━━━\u001b[0m\u001b[37m\u001b[0m \u001b[1m1s\u001b[0m 2ms/step - loss: 35761242112.0000 - mae: 156644.0781 - val_loss: 29622013952.0000 - val_mae: 138543.5469\n",
      "Epoch 6/20\n",
      "\u001b[1m413/413\u001b[0m \u001b[32m━━━━━━━━━━━━━━━━━━━━\u001b[0m\u001b[37m\u001b[0m \u001b[1m1s\u001b[0m 2ms/step - loss: 27095889920.0000 - mae: 130951.3047 - val_loss: 21776781312.0000 - val_mae: 113133.6719\n",
      "Epoch 7/20\n",
      "\u001b[1m413/413\u001b[0m \u001b[32m━━━━━━━━━━━━━━━━━━━━\u001b[0m\u001b[37m\u001b[0m \u001b[1m1s\u001b[0m 2ms/step - loss: 19788902400.0000 - mae: 106868.4141 - val_loss: 16399612928.0000 - val_mae: 94110.8984\n",
      "Epoch 8/20\n",
      "\u001b[1m413/413\u001b[0m \u001b[32m━━━━━━━━━━━━━━━━━━━━\u001b[0m\u001b[37m\u001b[0m \u001b[1m1s\u001b[0m 2ms/step - loss: 15066817536.0000 - mae: 90804.4766 - val_loss: 13520080896.0000 - val_mae: 84221.5859\n",
      "Epoch 9/20\n",
      "\u001b[1m413/413\u001b[0m \u001b[32m━━━━━━━━━━━━━━━━━━━━\u001b[0m\u001b[37m\u001b[0m \u001b[1m1s\u001b[0m 2ms/step - loss: 12530770944.0000 - mae: 82387.8750 - val_loss: 12136823808.0000 - val_mae: 79519.2188\n",
      "Epoch 10/20\n",
      "\u001b[1m413/413\u001b[0m \u001b[32m━━━━━━━━━━━━━━━━━━━━\u001b[0m\u001b[37m\u001b[0m \u001b[1m1s\u001b[0m 2ms/step - loss: 11157944320.0000 - mae: 78213.8047 - val_loss: 11293187072.0000 - val_mae: 76704.7422\n",
      "Epoch 11/20\n",
      "\u001b[1m413/413\u001b[0m \u001b[32m━━━━━━━━━━━━━━━━━━━━\u001b[0m\u001b[37m\u001b[0m \u001b[1m1s\u001b[0m 2ms/step - loss: 10840660992.0000 - mae: 75986.0391 - val_loss: 10642719744.0000 - val_mae: 74277.8047\n",
      "Epoch 12/20\n",
      "\u001b[1m413/413\u001b[0m \u001b[32m━━━━━━━━━━━━━━━━━━━━\u001b[0m\u001b[37m\u001b[0m \u001b[1m1s\u001b[0m 2ms/step - loss: 9787047936.0000 - mae: 72486.7812 - val_loss: 10075570176.0000 - val_mae: 72098.7656\n",
      "Epoch 13/20\n",
      "\u001b[1m413/413\u001b[0m \u001b[32m━━━━━━━━━━━━━━━━━━━━\u001b[0m\u001b[37m\u001b[0m \u001b[1m1s\u001b[0m 2ms/step - loss: 9248040960.0000 - mae: 70327.4766 - val_loss: 9563831296.0000 - val_mae: 70154.7891\n",
      "Epoch 14/20\n",
      "\u001b[1m413/413\u001b[0m \u001b[32m━━━━━━━━━━━━━━━━━━━━\u001b[0m\u001b[37m\u001b[0m \u001b[1m1s\u001b[0m 2ms/step - loss: 9035337728.0000 - mae: 68807.3672 - val_loss: 9101986816.0000 - val_mae: 68311.8750\n",
      "Epoch 15/20\n",
      "\u001b[1m413/413\u001b[0m \u001b[32m━━━━━━━━━━━━━━━━━━━━\u001b[0m\u001b[37m\u001b[0m \u001b[1m1s\u001b[0m 2ms/step - loss: 8423940608.0000 - mae: 66919.6406 - val_loss: 8676760576.0000 - val_mae: 66657.5859\n",
      "Epoch 16/20\n",
      "\u001b[1m413/413\u001b[0m \u001b[32m━━━━━━━━━━━━━━━━━━━━\u001b[0m\u001b[37m\u001b[0m \u001b[1m1s\u001b[0m 2ms/step - loss: 8214076928.0000 - mae: 65335.8164 - val_loss: 8280257024.0000 - val_mae: 65094.2891\n",
      "Epoch 17/20\n",
      "\u001b[1m413/413\u001b[0m \u001b[32m━━━━━━━━━━━━━━━━━━━━\u001b[0m\u001b[37m\u001b[0m \u001b[1m1s\u001b[0m 2ms/step - loss: 7917611520.0000 - mae: 63879.8320 - val_loss: 7915363328.0000 - val_mae: 63665.2930\n",
      "Epoch 18/20\n",
      "\u001b[1m413/413\u001b[0m \u001b[32m━━━━━━━━━━━━━━━━━━━━\u001b[0m\u001b[37m\u001b[0m \u001b[1m1s\u001b[0m 3ms/step - loss: 7354912256.0000 - mae: 61974.9805 - val_loss: 7569827328.0000 - val_mae: 62307.4453\n",
      "Epoch 19/20\n",
      "\u001b[1m413/413\u001b[0m \u001b[32m━━━━━━━━━━━━━━━━━━━━\u001b[0m\u001b[37m\u001b[0m \u001b[1m1s\u001b[0m 2ms/step - loss: 7000373760.0000 - mae: 60793.0820 - val_loss: 7240836096.0000 - val_mae: 60990.4062\n",
      "Epoch 20/20\n",
      "\u001b[1m413/413\u001b[0m \u001b[32m━━━━━━━━━━━━━━━━━━━━\u001b[0m\u001b[37m\u001b[0m \u001b[1m1s\u001b[0m 2ms/step - loss: 6848236544.0000 - mae: 59876.3906 - val_loss: 6939253248.0000 - val_mae: 59757.0000\n"
     ]
    }
   ],
   "source": [
    "\n",
    "# КРОК 5. Навчання (фітинг)\n",
    "history = model.fit(\n",
    "    X_train_scaled, y_train, \n",
    "    validation_split=0.2,    # виділяємо 20% від тренувальних даних на валідацію\n",
    "    epochs=20,               # кількість епох\n",
    "    batch_size=32,           # розмір міні-вибірки\n",
    "    verbose=1                # виводимо прогрес навчання\n",
    ")\n"
   ]
  },
  {
   "cell_type": "code",
   "execution_count": 15,
   "metadata": {},
   "outputs": [
    {
     "name": "stdout",
     "output_type": "stream",
     "text": [
      "Test MSE: 9272782848.0000\n",
      "Test MAE: 67436.8984\n"
     ]
    }
   ],
   "source": [
    "\n",
    "# КРОК 6. Оцінка на тестових даних\n",
    "test_loss, test_mae = model.evaluate(X_test_scaled, y_test, verbose=0)\n",
    "print(f\"Test MSE: {test_loss:.4f}\")\n",
    "print(f\"Test MAE: {test_mae:.4f}\")\n"
   ]
  },
  {
   "cell_type": "code",
   "execution_count": 18,
   "metadata": {},
   "outputs": [
    {
     "data": {
      "text/plain": [
       "(4128,)"
      ]
     },
     "execution_count": 18,
     "metadata": {},
     "output_type": "execute_result"
    }
   ],
   "source": [
    "y_test.shape"
   ]
  },
  {
   "cell_type": "code",
   "execution_count": 19,
   "metadata": {},
   "outputs": [
    {
     "name": "stdout",
     "output_type": "stream",
     "text": [
      "\u001b[1m1/1\u001b[0m \u001b[32m━━━━━━━━━━━━━━━━━━━━\u001b[0m\u001b[37m\u001b[0m \u001b[1m0s\u001b[0m 49ms/step\n",
      "Справжні значення: 20046     47700.0\n",
      "3024      45800.0\n",
      "15663    500001.0\n",
      "20484    218600.0\n",
      "9814     278000.0\n",
      "Name: median_house_value, dtype: float64\n",
      "Прогнози моделі:    [451.66388 451.66388 451.66388 451.66388 451.66388]\n"
     ]
    }
   ],
   "source": [
    "\n",
    "# КРОК 7. Приклад прогнозу\n",
    "predictions = model.predict(X_test_scaled[:5])\n",
    "print(\"Справжні значення:\", y_test[:5])\n",
    "print(\"Прогнози моделі:   \", predictions.reshape(-1))"
   ]
  }
 ],
 "metadata": {
  "kernelspec": {
   "display_name": "Python 3",
   "language": "python",
   "name": "python3"
  },
  "language_info": {
   "codemirror_mode": {
    "name": "ipython",
    "version": 3
   },
   "file_extension": ".py",
   "mimetype": "text/x-python",
   "name": "python",
   "nbconvert_exporter": "python",
   "pygments_lexer": "ipython3",
   "version": "3.11.9"
  }
 },
 "nbformat": 4,
 "nbformat_minor": 2
}
